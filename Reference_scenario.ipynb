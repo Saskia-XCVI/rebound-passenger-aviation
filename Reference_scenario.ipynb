{
 "cells": [
  {
   "cell_type": "markdown",
   "id": "a78452c3-a175-4682-9679-fc2d673327a0",
   "metadata": {},
   "source": [
    "**Import required packages**"
   ]
  },
  {
   "cell_type": "code",
   "execution_count": 1,
   "id": "6f2ab1d2-955f-474d-9258-99f94fe52860",
   "metadata": {
    "tags": []
   },
   "outputs": [
    {
     "name": "stderr",
     "output_type": "stream",
     "text": [
      "C:\\Users\\saski\\anaconda3\\Lib\\site-packages\\ema_workbench\\connectors\\__init__.py:29: ImportWarning: netlogo connector not available\n",
      "  warnings.warn(\"netlogo connector not available\", ImportWarning)\n",
      "C:\\Users\\saski\\anaconda3\\Lib\\site-packages\\ema_workbench\\connectors\\__init__.py:34: ImportWarning: simio connector not available\n",
      "  warnings.warn(\"simio connector not available\", ImportWarning)\n"
     ]
    }
   ],
   "source": [
    "import pandas as pd\n",
    "import json \n",
    "import matplotlib.pyplot as plt\n",
    "from matplotlib.ticker import PercentFormatter\n",
    "import seaborn as sns\n",
    "import numpy as np\n",
    "from numpy.random import dirichlet\n",
    "from ema_workbench import TimeSeriesOutcome, Model, perform_experiments, RealParameter, Scenario, CategoricalParameter, ScalarOutcome, ema_logging, save_results, Policy\n",
    "from ema_workbench.em_framework.samplers import LHSSampler  \n",
    "from ema_workbench import SequentialEvaluator\n",
    "from ema_workbench.analysis import lines, prim\n",
    "from ema_workbench.analysis.plotting_util import Density\n",
    "from ema_workbench.connectors.vensim import VensimModel"
   ]
  },
  {
   "cell_type": "markdown",
   "id": "794d88d2-e978-4379-9159-cef0fb45970f",
   "metadata": {},
   "source": [
    "The reference scenario already has the correct parameter values set in the Vensim model. So we proceed by loading the model."
   ]
  },
  {
   "cell_type": "markdown",
   "id": "9935b62b-5c3e-4b4c-bbea-234c999424d9",
   "metadata": {
    "tags": []
   },
   "source": [
    "**Load model**"
   ]
  },
  {
   "cell_type": "code",
   "execution_count": 5,
   "id": "3023679d-d8a1-4c4e-990e-3fb9d3a44d23",
   "metadata": {
    "tags": []
   },
   "outputs": [],
   "source": [
    " #turn on logging\n",
    "ema_logging.log_to_stderr(ema_logging.INFO)\n",
    "\n",
    "#initialize the Vensim model\n",
    "#wd = r\"C:\\Users\\saski\\OneDrive\\Documenten\\EPA\\AFSTUDEREN\\Model\\Definitive Model Version\"\n",
    "#vensimModel = VensimModel(\"FuturePredictionModel\", wd=wd, model_file=\"Model Future Prediction 17.1 FINAL.vpmx\")\n",
    "model_directory = r\"C:\\Users\\saski\\OneDrive\\Documenten\\EPA\\AFSTUDEREN\\Model\\Definitive Model Version\"\n",
    "model_file = \"ModelReboundSA.vpmx\"\n",
    "vensim_model = VensimModel(\"SAmodel\", wd=model_directory, model_file=model_file)\n",
    "\n",
    "#vensim_model.sampler = None"
   ]
  },
  {
   "cell_type": "code",
   "execution_count": null,
   "id": "3b9d8a02-3a57-46cc-b1fe-636679193a08",
   "metadata": {},
   "outputs": [],
   "source": []
  },
  {
   "cell_type": "code",
   "execution_count": 7,
   "id": "1b3e72e9-31f8-4f3c-89e3-3e9b5186edc7",
   "metadata": {
    "tags": []
   },
   "outputs": [
    {
     "name": "stdout",
     "output_type": "stream",
     "text": [
      "Scenario({'Market share per haul segment[ShortHaul]': 0.2, 'Fare elasticity of demand[ShortHaul]': -1.28, 'Pricing strategy factor[ShortHaul]': 0.45, 'Market share per haul segment[ShortMediumHaul]': 0.2, 'Fare elasticity of demand[ShortMediumHaul]': -1.28, 'Pricing strategy factor[ShortMediumHaul]': 0.45, 'Market share per haul segment[MediumHaul]': 0.2, 'Fare elasticity of demand[MediumHaul]': -1.06, 'Pricing strategy factor[MediumHaul]': 0.45, 'Market share per haul segment[LongHaul]': 0.2, 'Fare elasticity of demand[LongHaul]': -0.83, 'Pricing strategy factor[LongHaul]': 0.45, 'Market share per haul segment[UltraLongHaul]': 0.2, 'Fare elasticity of demand[UltraLongHaul]': -0.83, 'Pricing strategy factor[UltraLongHaul]': 0.45})\n"
     ]
    }
   ],
   "source": [
    "haul_segments = [\"ShortHaul\", \"ShortMediumHaul\", \"MediumHaul\", \"LongHaul\", \"UltraLongHaul\"]\n",
    "\n",
    "n_experiments = 1\n",
    "\n",
    "scenarios = []\n",
    "\n",
    "elasticity_values = {\n",
    "    \"ShortHaul\": -1.28,\n",
    "    \"ShortMediumHaul\": -1.28,\n",
    "    \"MediumHaul\": -1.06,\n",
    "    \"LongHaul\": -0.83,\n",
    "    \"UltraLongHaul\": -0.83\n",
    "}\n",
    "\n",
    "for i in range(n_experiments):\n",
    "    scenario = Scenario()\n",
    "    \n",
    "    # Add market share values for each segment\n",
    "    for segment in haul_segments:\n",
    "        scenario[f\"Market share per haul segment[{segment}]\"] = 0.2\n",
    "        scenario[f\"Fare elasticity of demand[{segment}]\"] = elasticity_values[segment]\n",
    "        scenario[f\"Pricing strategy factor[{segment}]\"] = 0.45\n",
    "    \n",
    "    scenarios.append(scenario)\n",
    "    \n",
    "for scenario in scenarios:\n",
    "    print(scenario)"
   ]
  },
  {
   "cell_type": "code",
   "execution_count": 16,
   "id": "938dffc8-5080-4081-9acc-a2a8f29fcfcf",
   "metadata": {
    "tags": []
   },
   "outputs": [],
   "source": [
    "uncertain_parameters = []\n",
    "\n",
    "for segment in haul_segments:\n",
    "    uncertain_parameters.append(\n",
    "            RealParameter(f\"Market share per haul segment[{segment}]\", 0.1999, 0.2001)\n",
    "    )\n",
    "        \n",
    "    #add uncertain parameters for fare elasticity and pricing strategy factor\n",
    "    uncertain_parameters.append(\n",
    "        RealParameter(f\"Fare elasticity of demand[{segment}]\", -1.28, -0.83)\n",
    "    )\n",
    "    uncertain_parameters.append(\n",
    "        RealParameter(f\"Pricing strategy factor[{segment}]\", 0.4449, 0.4501)\n",
    "    )\n",
    "    \n",
    "vensim_model.uncertainties = uncertain_parameters"
   ]
  },
  {
   "cell_type": "markdown",
   "id": "ee4e7c3b-5c87-4cb9-8561-b81177604fac",
   "metadata": {
    "tags": []
   },
   "source": [
    "**Define KPIs**"
   ]
  },
  {
   "cell_type": "code",
   "execution_count": 8,
   "id": "577acebe-3dbb-45c6-b0b6-31e80d48de17",
   "metadata": {
    "tags": []
   },
   "outputs": [],
   "source": [
    "vensim_model.outcomes = [TimeSeriesOutcome(\"Total accumulated emissions\", variable_name=\"Total accumulated emissions\"),\n",
    "                        TimeSeriesOutcome(\"Total annual passenger demand\", variable_name=\"Total annual passenger demand\")]"
   ]
  },
  {
   "cell_type": "markdown",
   "id": "e40bbd4d-f8f4-463d-827d-675dd6fa7973",
   "metadata": {},
   "source": [
    "**Perform one single run**"
   ]
  },
  {
   "cell_type": "code",
   "execution_count": 17,
   "id": "5f24e324-4fec-40c7-a586-6662abbdd192",
   "metadata": {
    "tags": []
   },
   "outputs": [
    {
     "name": "stderr",
     "output_type": "stream",
     "text": [
      "[MainProcess/INFO] performing 1 scenarios * 1 policies * 1 model(s) = 1 experiments\n",
      "\n",
      "\n",
      "  0%|                                                    | 0/1 [00:00<?, ?it/s]\u001b[A\u001b[A[MainProcess/INFO] performing experiments sequentially\n",
      "\n",
      "\n",
      "100%|████████████████████████████████████████████| 1/1 [00:00<00:00,  5.77it/s]\u001b[A\u001b[A\n",
      "[MainProcess/INFO] experiments finished\n"
     ]
    }
   ],
   "source": [
    "from ema_workbench import SequentialEvaluator\n",
    "\n",
    "experiment, outcome_refscenario = perform_experiments(vensim_model, scenarios=n_experiments) "
   ]
  },
  {
   "cell_type": "code",
   "execution_count": 18,
   "id": "4225328e-fd07-4831-8f51-44dc2367d426",
   "metadata": {},
   "outputs": [
    {
     "name": "stderr",
     "output_type": "stream",
     "text": [
      "C:\\Users\\saski\\anaconda3\\Lib\\site-packages\\ema_workbench\\em_framework\\outcomes.py:541: UserWarning: still to be tested!!\n",
      "  warnings.warn(\"still to be tested!!\")\n",
      "[MainProcess/INFO] results saved successfully to C:\\Users\\saski\\OneDrive\\Documenten\\EPA\\AFSTUDEREN\\results\\results_refscenario.tar.gz\n"
     ]
    }
   ],
   "source": [
    "save_results((experiment, outcome_refscenario), \"./results/results_refscenario.tar.gz\")"
   ]
  }
 ],
 "metadata": {
  "kernelspec": {
   "display_name": "Python 3 (ipykernel)",
   "language": "python",
   "name": "python3"
  },
  "language_info": {
   "codemirror_mode": {
    "name": "ipython",
    "version": 3
   },
   "file_extension": ".py",
   "mimetype": "text/x-python",
   "name": "python",
   "nbconvert_exporter": "python",
   "pygments_lexer": "ipython3",
   "version": "3.11.5"
  }
 },
 "nbformat": 4,
 "nbformat_minor": 5
}
