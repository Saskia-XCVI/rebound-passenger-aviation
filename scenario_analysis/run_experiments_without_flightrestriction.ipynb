{
 "cells": [
  {
   "cell_type": "markdown",
   "id": "117f43e7-4aca-4c82-b9fd-220ee7d76a06",
   "metadata": {},
   "source": [
    "**Import required packages**"
   ]
  },
  {
   "cell_type": "code",
   "execution_count": 1,
   "id": "51382167-ef37-4205-a14d-6f68fec9888f",
   "metadata": {
    "tags": []
   },
   "outputs": [
    {
     "name": "stderr",
     "output_type": "stream",
     "text": [
      "C:\\Users\\saski\\anaconda3\\Lib\\site-packages\\ema_workbench\\connectors\\__init__.py:29: ImportWarning: netlogo connector not available\n",
      "  warnings.warn(\"netlogo connector not available\", ImportWarning)\n",
      "C:\\Users\\saski\\anaconda3\\Lib\\site-packages\\ema_workbench\\connectors\\__init__.py:34: ImportWarning: simio connector not available\n",
      "  warnings.warn(\"simio connector not available\", ImportWarning)\n"
     ]
    }
   ],
   "source": [
    "import pandas as pd\n",
    "import json \n",
    "import matplotlib.pyplot as plt\n",
    "from matplotlib.ticker import PercentFormatter\n",
    "import seaborn as sns\n",
    "import numpy as np\n",
    "from numpy.random import dirichlet\n",
    "from ema_workbench import TimeSeriesOutcome, Model, perform_experiments, RealParameter, Scenario, CategoricalParameter, ScalarOutcome, ema_logging, save_results, Policy\n",
    "from ema_workbench.em_framework.samplers import LHSSampler  \n",
    "from ema_workbench import SequentialEvaluator\n",
    "from ema_workbench.analysis import lines, prim\n",
    "from ema_workbench.analysis.plotting_util import Density\n",
    "from ema_workbench.connectors.vensim import VensimModel"
   ]
  },
  {
   "cell_type": "code",
   "execution_count": 2,
   "id": "3e0fa9e2-a7cf-4cff-91a7-48be108db5bc",
   "metadata": {
    "tags": []
   },
   "outputs": [],
   "source": [
    "#number of experiments\n",
    "n_experiments = 1000 "
   ]
  },
  {
   "cell_type": "code",
   "execution_count": 3,
   "id": "0b480499-e130-4dbc-806c-2259eb2f0e5f",
   "metadata": {
    "tags": []
   },
   "outputs": [],
   "source": [
    "#settings for market share per haul segment\n",
    "num_segments = 5\n",
    "lower_bound = 0.1 #minimum market share per haul segment = 10%\n",
    "upper_bound = 0.3 #maximum market share per haul segment = 30%"
   ]
  },
  {
   "cell_type": "markdown",
   "id": "b05b5fa2-04ec-4cbe-a465-ee565a55d164",
   "metadata": {},
   "source": [
    "**Define uncertain parameters**"
   ]
  },
  {
   "cell_type": "code",
   "execution_count": 4,
   "id": "3a645ced-d19a-41e8-b99e-ef7afa013d34",
   "metadata": {
    "tags": []
   },
   "outputs": [],
   "source": [
    "uncertain_parameters = []\n",
    "haul_segments = [\"ShortHaul\", \"ShortMediumHaul\", \"MediumHaul\", \"LongHaul\", \"UltraLongHaul\"]\n",
    "\n",
    "for segment in haul_segments:\n",
    "    uncertain_parameters.append(\n",
    "            RealParameter(f\"Market share per haul segment[{segment}]\", lower_bound, upper_bound)\n",
    "    )\n",
    "        \n",
    "    #add uncertain parameters for fare elasticity and pricing strategy factor\n",
    "    uncertain_parameters.append(\n",
    "        RealParameter(f\"Fare elasticity of demand[{segment}]\", -1.5, -0.6)\n",
    "    )\n",
    "    uncertain_parameters.append(\n",
    "        RealParameter(f\"Pricing strategy factor[{segment}]\", 0.1, 1.0)\n",
    "    )\n",
    "#print(unc_params)"
   ]
  },
  {
   "cell_type": "markdown",
   "id": "7bf6f50d-c0a4-4ba4-b747-62ed459cd968",
   "metadata": {},
   "source": [
    "**Define the Market Share Sampling**"
   ]
  },
  {
   "cell_type": "markdown",
   "id": "88047dbe-659d-41c1-8ad6-a514206c01b2",
   "metadata": {},
   "source": [
    "Sample market shares per haul segment, ensuring them to meet the sum and bounds constraints.\n",
    "Since \"Market share per haul segment\" is subscripted, Dirichlet-based sampling is used. "
   ]
  },
  {
   "cell_type": "code",
   "execution_count": 5,
   "id": "e718d106-7fda-4bd5-a1bd-875b117c87cc",
   "metadata": {
    "tags": []
   },
   "outputs": [],
   "source": [
    "np.random.seed(8) #set random seed to ensure reproducibility\n",
    "\n",
    "def sample_market_shares(num_segments, lower_bound, upper_bound, n_experiments):\n",
    "    \n",
    "    all_market_shares = []\n",
    "    \n",
    "    for _ in range(n_experiments):\n",
    "        alpha = np.ones(num_segments) #equal weights for haul segments\n",
    "        shares = np.random.dirichlet(alpha)\n",
    "    \n",
    "        scaled_shares = lower_bound + shares * (upper_bound - lower_bound) #scale shares to fit within lower and upper bound\n",
    "    \n",
    "        normalized_shares = scaled_shares / scaled_shares.sum() #make sure that sum of shares is always equal to 1\n",
    "    \n",
    "        #check whether the sum of the shares is indeed 1\n",
    "        #if np.isclose(normalized_shares.sum(), 1):\n",
    "            #print(f\"Market shares sum to 1: {normalized_shares.sum()}\")  \n",
    "        #else:\n",
    "            #print(f\"Warning: Market shares do not sum to 1. Sum: {normalized_shares.sum()}\")\n",
    "            \n",
    "        all_market_shares.append(normalized_shares)\n",
    "    \n",
    "    return np.array(all_market_shares)\n",
    "\n",
    "market_shares_for_all_runs = sample_market_shares(num_segments, lower_bound, upper_bound, n_experiments)\n",
    "\n",
    "#print(\"Market Shares for Each Experiment:\")\n",
    "#for i, shares in enumerate(market_shares_for_all_runs):\n",
    "    #print(f\"Run {i+1}: {shares}\")\n",
    "    \n",
    "scenarios = []\n",
    "\n",
    "for i in range(n_experiments):\n",
    "    scenario = Scenario()\n",
    "    \n",
    "    # Add market share values for each segment\n",
    "    for j, segment in enumerate(haul_segments):\n",
    "        scenario[f\"Market share per haul segment[{segment}]\"] = market_shares_for_all_runs[i, j]\n",
    "        \n",
    "    for segment in haul_segments:\n",
    "        scenario[f\"Fare elasticity of demand[{segment}]\"] = None  # LHS will handle this\n",
    "        scenario[f\"Pricing strategy factor[{segment}]\"] = None  # LHS will handle this\n",
    "    \n",
    "    scenarios.append(scenario)\n"
   ]
  },
  {
   "cell_type": "markdown",
   "id": "7b671522-042e-4717-b3dd-353518bd3c79",
   "metadata": {},
   "source": [
    "**Define the Vensim Model**"
   ]
  },
  {
   "cell_type": "code",
   "execution_count": 7,
   "id": "73b7c155-bfa0-466f-8cb0-f808cc8aff69",
   "metadata": {
    "tags": []
   },
   "outputs": [],
   "source": [
    " # turn on logging\n",
    "ema_logging.log_to_stderr(ema_logging.INFO)\n",
    "\n",
    "# Initialize the Vensim model\n",
    "#wd = r\"C:\\Users\\saski\\OneDrive\\Documenten\\EPA\\AFSTUDEREN\\Model\\Definitive Model Version\"\n",
    "#vensimModel = VensimModel(\"FuturePredictionModel\", wd=wd, model_file=\"Model Future Prediction 17.1 FINAL.vpmx\")\n",
    "model_directory = r\"C:\\Users\\saski\\OneDrive\\Documenten\\EPA\\AFSTUDEREN\\Model\\Definitive Model Version\"\n",
    "model_file = \"ModelReboundSA.vpmx\"\n",
    "vensim_model = VensimModel(\"SAmodel\", wd=model_directory, model_file=model_file)\n",
    "    \n",
    "vensim_model.sampler = LHSSampler() #use LHS sampling instead of random sampling\n"
   ]
  },
  {
   "cell_type": "code",
   "execution_count": null,
   "id": "18a4c6bd-44f1-4ecd-9822-40820dd11780",
   "metadata": {},
   "outputs": [],
   "source": []
  },
  {
   "cell_type": "markdown",
   "id": "651e0ebb-6277-464e-a3ec-119baef5cd18",
   "metadata": {},
   "source": [
    "**Define uncertainties**"
   ]
  },
  {
   "cell_type": "code",
   "execution_count": 8,
   "id": "7bf916fe-92d5-4dfb-ab65-65df969b7c72",
   "metadata": {
    "tags": []
   },
   "outputs": [],
   "source": [
    "vensim_model.uncertainties = uncertain_parameters"
   ]
  },
  {
   "cell_type": "markdown",
   "id": "52b6fb11-3c93-4980-b50f-032795cdf3f8",
   "metadata": {},
   "source": [
    "**Define KPIs**"
   ]
  },
  {
   "cell_type": "code",
   "execution_count": 9,
   "id": "37cd898e-1ae4-4d32-9006-243248630254",
   "metadata": {
    "tags": []
   },
   "outputs": [],
   "source": [
    "vensim_model.outcomes = [TimeSeriesOutcome(\"Total accumulated emissions\", variable_name=\"Total accumulated emissions\"),\n",
    "                         TimeSeriesOutcome(\"Total annual passenger demand\", variable_name=\"Total annual passenger demand\")]"
   ]
  },
  {
   "cell_type": "code",
   "execution_count": null,
   "id": "599c1c3c-dbb7-456d-b359-b28d74346bcb",
   "metadata": {},
   "outputs": [],
   "source": []
  },
  {
   "cell_type": "markdown",
   "id": "d644011b-32c6-4163-975c-76a375841a43",
   "metadata": {},
   "source": [
    "**Run experiments**"
   ]
  },
  {
   "cell_type": "markdown",
   "id": "2891d30d-f01c-40d8-8780-78b7ccf6e3ef",
   "metadata": {},
   "source": [
    "The experiments are runned using random sampling."
   ]
  },
  {
   "cell_type": "code",
   "execution_count": 10,
   "id": "2bfc0fcf-5e66-4dc7-9044-c75d6cfd0ec5",
   "metadata": {},
   "outputs": [
    {
     "name": "stderr",
     "output_type": "stream",
     "text": [
      "[MainProcess/INFO] performing 1000 scenarios * 1 policies * 1 model(s) = 1000 experiments\n",
      "  0%|                                                 | 0/1000 [00:00<?, ?it/s][MainProcess/INFO] performing experiments sequentially\n",
      "100%|██████████████████████████████████████| 1000/1000 [00:55<00:00, 17.88it/s]\n",
      "[MainProcess/INFO] experiments finished\n"
     ]
    }
   ],
   "source": [
    "from ema_workbench import SequentialEvaluator\n",
    "\n",
    "experiments, outcomes = perform_experiments(vensim_model, scenarios=n_experiments) \n",
    "\n",
    "# Analyze or export results"
   ]
  },
  {
   "cell_type": "markdown",
   "id": "23dd5d40-2cd4-4d47-bc16-c3036c1a11b3",
   "metadata": {},
   "source": [
    "**Save results**"
   ]
  },
  {
   "cell_type": "code",
   "execution_count": 11,
   "id": "f06e40df-4c6f-48e8-9bec-e50e24cee644",
   "metadata": {
    "tags": []
   },
   "outputs": [
    {
     "name": "stderr",
     "output_type": "stream",
     "text": [
      "C:\\Users\\saski\\anaconda3\\Lib\\site-packages\\ema_workbench\\em_framework\\outcomes.py:541: UserWarning: still to be tested!!\n",
      "  warnings.warn(\"still to be tested!!\")\n",
      "[MainProcess/INFO] results saved successfully to C:\\Users\\saski\\OneDrive\\Documenten\\EPA\\AFSTUDEREN\\results\\results_final.tar.gz\n"
     ]
    }
   ],
   "source": [
    "save_results((experiments, outcomes), \"./results/results_final.tar.gz\")"
   ]
  }
 ],
 "metadata": {
  "kernelspec": {
   "display_name": "Python 3 (ipykernel)",
   "language": "python",
   "name": "python3"
  },
  "language_info": {
   "codemirror_mode": {
    "name": "ipython",
    "version": 3
   },
   "file_extension": ".py",
   "mimetype": "text/x-python",
   "name": "python",
   "nbconvert_exporter": "python",
   "pygments_lexer": "ipython3",
   "version": "3.11.5"
  }
 },
 "nbformat": 4,
 "nbformat_minor": 5
}
