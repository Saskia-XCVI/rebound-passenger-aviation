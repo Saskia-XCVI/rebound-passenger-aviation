{
 "cells": [
  {
   "cell_type": "markdown",
   "id": "0c0736c3-7edf-4daa-b550-c568975fdba8",
   "metadata": {},
   "source": [
    "**Import required packages**"
   ]
  },
  {
   "cell_type": "code",
   "execution_count": 1,
   "id": "bcb73706-5ec7-483c-86ea-0c1ef60d3951",
   "metadata": {
    "tags": []
   },
   "outputs": [
    {
     "name": "stderr",
     "output_type": "stream",
     "text": [
      "C:\\Users\\saski\\anaconda3\\Lib\\site-packages\\ema_workbench\\connectors\\__init__.py:29: ImportWarning: netlogo connector not available\n",
      "  warnings.warn(\"netlogo connector not available\", ImportWarning)\n",
      "C:\\Users\\saski\\anaconda3\\Lib\\site-packages\\ema_workbench\\connectors\\__init__.py:34: ImportWarning: simio connector not available\n",
      "  warnings.warn(\"simio connector not available\", ImportWarning)\n"
     ]
    }
   ],
   "source": [
    "import pandas as pd\n",
    "import json \n",
    "import matplotlib.pyplot as plt\n",
    "from matplotlib.ticker import PercentFormatter\n",
    "import seaborn as sns\n",
    "import numpy as np\n",
    "from numpy.random import dirichlet\n",
    "from ema_workbench import TimeSeriesOutcome, Model, perform_experiments, RealParameter, Scenario, CategoricalParameter, ScalarOutcome, ema_logging, save_results, Policy\n",
    "from ema_workbench.em_framework.samplers import LHSSampler  \n",
    "from ema_workbench import SequentialEvaluator\n",
    "from ema_workbench.analysis import lines, prim\n",
    "from ema_workbench.analysis.plotting_util import Density\n",
    "from ema_workbench.connectors.vensim import VensimModel"
   ]
  },
  {
   "cell_type": "code",
   "execution_count": 2,
   "id": "43fcdd76-44eb-4c22-8067-d30053749ef3",
   "metadata": {
    "tags": []
   },
   "outputs": [],
   "source": [
    "#number of experiments\n",
    "n_experiments = 1000 "
   ]
  },
  {
   "cell_type": "code",
   "execution_count": 3,
   "id": "fd2e570f-df03-4d34-ac2d-d77bb22ab864",
   "metadata": {
    "tags": []
   },
   "outputs": [],
   "source": [
    "#settings for market share per haul segment\n",
    "num_segments = 5\n",
    "lower_bound = 0.1 #minimum market share per haul segment = 10%\n",
    "upper_bound = 0.3 #maximum market share per haul segment = 30%"
   ]
  },
  {
   "cell_type": "markdown",
   "id": "19f1313f-ad22-4fa1-ba9c-7e6e397904b2",
   "metadata": {},
   "source": [
    "**Define uncertain parameters**"
   ]
  },
  {
   "cell_type": "code",
   "execution_count": 4,
   "id": "05fa3049-e0ed-4b42-8f74-aa229581016b",
   "metadata": {
    "tags": []
   },
   "outputs": [],
   "source": [
    "uncertain_parameters = []\n",
    "haul_segments = [\"ShortHaul\", \"ShortMediumHaul\", \"MediumHaul\", \"LongHaul\", \"UltraLongHaul\"]\n",
    "\n",
    "for segment in haul_segments:\n",
    "    uncertain_parameters.append(\n",
    "            RealParameter(f\"Market share per haul segment[{segment}]\", lower_bound, upper_bound)\n",
    "    )\n",
    "        \n",
    "    #add uncertain parameters for fare elasticity and pricing strategy factor\n",
    "    uncertain_parameters.append(\n",
    "        RealParameter(f\"Fare elasticity of demand[{segment}]\", -1.5, -0.6)\n",
    "    )\n",
    "    uncertain_parameters.append(\n",
    "        RealParameter(f\"Pricing strategy factor[{segment}]\", 0.1, 1.0)\n",
    "    )"
   ]
  },
  {
   "cell_type": "markdown",
   "id": "acef8fbb-3405-430c-ab37-11d86b4c3268",
   "metadata": {},
   "source": [
    "**Define the Market Share Sampling**"
   ]
  },
  {
   "cell_type": "markdown",
   "id": "69e8b49c-a016-49dd-a489-e3c26ec08e94",
   "metadata": {},
   "source": [
    "Sample market shares per haul segment, ensuring them to meet the sum and bounds constraints.\n",
    "Since \"Market share per haul segment\" is subscripted, Dirichlet-based sampling is used. "
   ]
  },
  {
   "cell_type": "code",
   "execution_count": 5,
   "id": "6ff517a5-2544-4da6-aafd-bf8c9f0ecb77",
   "metadata": {
    "tags": []
   },
   "outputs": [],
   "source": [
    "np.random.seed(8) #set random seed to ensure reproducibility\n",
    "\n",
    "def sample_market_shares(num_segments, lower_bound, upper_bound, n_experiments):\n",
    "    \n",
    "    all_market_shares = []\n",
    "    \n",
    "    for _ in range(n_experiments):\n",
    "        alpha = np.ones(num_segments) #equal weights for haul segments\n",
    "        shares = np.random.dirichlet(alpha)\n",
    "    \n",
    "        scaled_shares = lower_bound + shares * (upper_bound - lower_bound) #scale shares to fit within lower and upper bound\n",
    "    \n",
    "        normalized_shares = scaled_shares / scaled_shares.sum() #make sure that sum of shares is always equal to 1\n",
    "    \n",
    "        #check whether the sum of the shares is indeed 1\n",
    "        #if np.isclose(normalized_shares.sum(), 1):\n",
    "            #print(f\"Market shares sum to 1: {normalized_shares.sum()}\")  \n",
    "        #else:\n",
    "            #print(f\"Warning: Market shares do not sum to 1. Sum: {normalized_shares.sum()}\")\n",
    "            \n",
    "        all_market_shares.append(normalized_shares)\n",
    "    \n",
    "    return np.array(all_market_shares)\n",
    "\n",
    "market_shares_for_all_runs = sample_market_shares(num_segments, lower_bound, upper_bound, n_experiments)\n",
    "\n",
    "#print(\"Market Shares for Each Experiment:\")\n",
    "#for i, shares in enumerate(market_shares_for_all_runs):\n",
    "    #print(f\"Run {i+1}: {shares}\")\n",
    "    \n",
    "scenarios = []\n",
    "\n",
    "for i in range(n_experiments):\n",
    "    scenario = Scenario()\n",
    "    \n",
    "    # Add market share values for each segment\n",
    "    for j, segment in enumerate(haul_segments):\n",
    "        scenario[f\"Market share per haul segment[{segment}]\"] = market_shares_for_all_runs[i, j]\n",
    "        \n",
    "    for segment in haul_segments:\n",
    "        scenario[f\"Fare elasticity of demand[{segment}]\"] = None  # LHS will handle this\n",
    "        scenario[f\"Pricing strategy factor[{segment}]\"] = None  # LHS will handle this\n",
    "    \n",
    "    scenarios.append(scenario)"
   ]
  },
  {
   "cell_type": "markdown",
   "id": "031aec44-ebb4-438f-8c58-08f79320e005",
   "metadata": {
    "tags": []
   },
   "source": [
    "**Define the Vensim Model**"
   ]
  },
  {
   "cell_type": "code",
   "execution_count": 6,
   "id": "4040061f-bef7-4efd-b0c6-ce2ca7f434dd",
   "metadata": {
    "tags": []
   },
   "outputs": [],
   "source": [
    "# turn on logging\n",
    "ema_logging.log_to_stderr(ema_logging.INFO)\n",
    "\n",
    "# Initialize the Vensim model\n",
    "#wd = r\"C:\\Users\\saski\\OneDrive\\Documenten\\EPA\\AFSTUDEREN\\Model\\Definitive Model Version\"\n",
    "#vensimModel = VensimModel(\"FuturePredictionModel\", wd=wd, model_file=\"Model Future Prediction 17.1 FINAL.vpmx\")\n",
    "model_directory2 = r\"C:\\Users\\saski\\OneDrive\\Documenten\\EPA\\AFSTUDEREN\\Model\\Definitive Model Version\"\n",
    "model_file2 = \"final_model_flightrestriction.vpmx\"\n",
    "vensim_model2 = VensimModel(\"model2\", wd=model_directory2, model_file=model_file2)\n",
    "    \n",
    "vensim_model2.sampler = LHSSampler() #use LHS sampling instead of random sampling"
   ]
  },
  {
   "cell_type": "markdown",
   "id": "ac4e95b4-6a49-4ead-bb81-c85f61f8ed1e",
   "metadata": {},
   "source": [
    "**Define uncertainties**"
   ]
  },
  {
   "cell_type": "code",
   "execution_count": 7,
   "id": "48bee5ce-f242-4412-aa9f-100d314f138f",
   "metadata": {
    "tags": []
   },
   "outputs": [],
   "source": [
    "vensim_model2.uncertainties = uncertain_parameters"
   ]
  },
  {
   "cell_type": "markdown",
   "id": "2a6c3062-003b-46f4-8bef-4dc02bfb638a",
   "metadata": {},
   "source": [
    "**Define KPIs**"
   ]
  },
  {
   "cell_type": "code",
   "execution_count": 8,
   "id": "7cc61222-18e8-4f35-8651-e74cee795119",
   "metadata": {
    "tags": []
   },
   "outputs": [],
   "source": [
    "vensim_model2.outcomes = [TimeSeriesOutcome(\"Total accumulated emissions\", variable_name=\"Total accumulated emissions\"),\n",
    "                         TimeSeriesOutcome(\"Total annual passenger demand\", variable_name=\"Total annual passenger demand\"),\n",
    "                         TimeSeriesOutcome(\"Average demand fulfillment rate\", variable_name=\"Average demand fulfillment rate\")]\n",
    "                         #TimeSeriesOutcome(\"Change ratio fuel cost per RPK\", variable_name=\"Change ratio fuel cost per RPK\"),\n",
    "                         #TimeSeriesOutcome(\"Fare price change ratio\", variable_name=\"Fare price change ratio\"),\n",
    "                         #TimeSeriesOutcome(\"Fuel efficiency-induced demand growth rate\", variable_name=\"Fuel efficiency induced demand growth rate\")]"
   ]
  },
  {
   "cell_type": "markdown",
   "id": "8a345223-d1b3-4a81-8130-e3bf0f37058c",
   "metadata": {},
   "source": [
    "**Run experiments**"
   ]
  },
  {
   "cell_type": "code",
   "execution_count": 10,
   "id": "c4210e30-7f31-4d3c-a605-6695ec7136ce",
   "metadata": {
    "tags": []
   },
   "outputs": [
    {
     "name": "stderr",
     "output_type": "stream",
     "text": [
      "[MainProcess/INFO] performing 1000 scenarios * 1 policies * 1 model(s) = 1000 experiments\n",
      "  0%|                                                 | 0/1000 [00:00<?, ?it/s][MainProcess/INFO] performing experiments sequentially\n",
      "100%|██████████████████████████████████████| 1000/1000 [01:01<00:00, 16.30it/s]\n",
      "[MainProcess/INFO] experiments finished\n"
     ]
    }
   ],
   "source": [
    "from ema_workbench import SequentialEvaluator\n",
    "\n",
    "experiments2, outcomes2 = perform_experiments(vensim_model2, scenarios=n_experiments)"
   ]
  },
  {
   "cell_type": "code",
   "execution_count": 11,
   "id": "308f8c11-2489-4d90-b298-8fa7ecaa58d5",
   "metadata": {
    "tags": []
   },
   "outputs": [
    {
     "name": "stderr",
     "output_type": "stream",
     "text": [
      "C:\\Users\\saski\\anaconda3\\Lib\\site-packages\\ema_workbench\\em_framework\\outcomes.py:541: UserWarning: still to be tested!!\n",
      "  warnings.warn(\"still to be tested!!\")\n",
      "[MainProcess/INFO] results saved successfully to C:\\Users\\saski\\OneDrive\\Documenten\\EPA\\AFSTUDEREN\\results\\results_final_flightrestriction.tar.gz\n"
     ]
    }
   ],
   "source": [
    "save_results((experiments2, outcomes2), \"./results/results_final_flightrestriction.tar.gz\")"
   ]
  }
 ],
 "metadata": {
  "kernelspec": {
   "display_name": "Python 3 (ipykernel)",
   "language": "python",
   "name": "python3"
  },
  "language_info": {
   "codemirror_mode": {
    "name": "ipython",
    "version": 3
   },
   "file_extension": ".py",
   "mimetype": "text/x-python",
   "name": "python",
   "nbconvert_exporter": "python",
   "pygments_lexer": "ipython3",
   "version": "3.11.5"
  }
 },
 "nbformat": 4,
 "nbformat_minor": 5
}
