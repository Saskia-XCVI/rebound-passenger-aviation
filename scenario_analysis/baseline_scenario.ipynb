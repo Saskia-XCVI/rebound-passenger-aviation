{
 "cells": [
  {
   "cell_type": "code",
   "execution_count": 1,
   "id": "7e40fcbc-c212-4d81-b3cf-bcc9192c7fba",
   "metadata": {},
   "outputs": [
    {
     "name": "stderr",
     "output_type": "stream",
     "text": [
      "C:\\Users\\saski\\anaconda3\\Lib\\site-packages\\ema_workbench\\connectors\\__init__.py:29: ImportWarning: netlogo connector not available\n",
      "  warnings.warn(\"netlogo connector not available\", ImportWarning)\n",
      "C:\\Users\\saski\\anaconda3\\Lib\\site-packages\\ema_workbench\\connectors\\__init__.py:34: ImportWarning: simio connector not available\n",
      "  warnings.warn(\"simio connector not available\", ImportWarning)\n"
     ]
    }
   ],
   "source": [
    "import pandas as pd\n",
    "import json \n",
    "import matplotlib.pyplot as plt\n",
    "from matplotlib.ticker import PercentFormatter\n",
    "import seaborn as sns\n",
    "import numpy as np\n",
    "from numpy.random import dirichlet\n",
    "from ema_workbench import TimeSeriesOutcome, Model, perform_experiments, RealParameter, Scenario, CategoricalParameter, ScalarOutcome, ema_logging, save_results, Policy\n",
    "from ema_workbench.em_framework.samplers import LHSSampler  # Import the LHS sampler\n",
    "from ema_workbench import SequentialEvaluator\n",
    "from ema_workbench.analysis import lines, prim\n",
    "from ema_workbench.analysis.plotting_util import Density\n",
    "from ema_workbench.connectors.vensim import VensimModel"
   ]
  },
  {
   "cell_type": "markdown",
   "id": "e8bdd538-1667-4170-8e56-82a67958fa48",
   "metadata": {},
   "source": [
    "**Load model**"
   ]
  },
  {
   "cell_type": "code",
   "execution_count": 35,
   "id": "eb66a890-f023-4e52-8e2e-e24364521601",
   "metadata": {
    "tags": []
   },
   "outputs": [],
   "source": [
    "#turn on logging\n",
    "ema_logging.log_to_stderr(ema_logging.INFO)\n",
    "\n",
    "#initialize the Vensim model\n",
    "#wd = r\"C:\\Users\\saski\\OneDrive\\Documenten\\EPA\\AFSTUDEREN\\Model\\Definitive Model Version\"\n",
    "#vensimModel = VensimModel(\"FuturePredictionModel\", wd=wd, model_file=\"Model Future Prediction 17.1 FINAL.vpmx\")\n",
    "model_directory = r\"C:\\Users\\saski\\OneDrive\\Documenten\\EPA\\AFSTUDEREN\\Model\\Definitive Model Version\"\n",
    "model_file = \"ModelBaseline1.vpmx\"\n",
    "vensim_model = VensimModel(\"Baselinemodel1\", wd=model_directory, model_file=model_file)"
   ]
  },
  {
   "cell_type": "markdown",
   "id": "aad4d3c6-3fb7-457b-97ac-c06cf3530c71",
   "metadata": {
    "tags": []
   },
   "source": [
    "**Define rebound switch**"
   ]
  },
  {
   "cell_type": "markdown",
   "id": "fc1d657d-07ce-4949-b12c-499f75ebae78",
   "metadata": {},
   "source": [
    "The SD model contains a rebound switch to be able to turn the rebound loop on and off in accordance with the experiment design of this research.\n",
    "\n",
    "For Scenario Analysis and the reference scenario: rebound switch = 1.\n",
    "\n",
    "The baseline simulation without rebound: rebound switch = 0.\n",
    "\n",
    "The rebound switch takes value 1 by default in the model, so that needs to be modified using the following:\n"
   ]
  },
  {
   "cell_type": "code",
   "execution_count": null,
   "id": "21143421-115e-4a21-a50b-d278c0e975fb",
   "metadata": {},
   "outputs": [],
   "source": []
  },
  {
   "cell_type": "code",
   "execution_count": 36,
   "id": "36e77da4-bb77-4aec-ae66-e945869f58a1",
   "metadata": {
    "tags": []
   },
   "outputs": [
    {
     "name": "stdout",
     "output_type": "stream",
     "text": [
      "Scenario({'Market share per haul segment[ShortHaul]': 0.2, 'Fare elasticity of demand[ShortHaul]': -1.28, 'Pricing strategy factor[ShortHaul]': 0.45, 'Market share per haul segment[ShortMediumHaul]': 0.2, 'Fare elasticity of demand[ShortMediumHaul]': -1.28, 'Pricing strategy factor[ShortMediumHaul]': 0.45, 'Market share per haul segment[MediumHaul]': 0.2, 'Fare elasticity of demand[MediumHaul]': -1.06, 'Pricing strategy factor[MediumHaul]': 0.45, 'Market share per haul segment[LongHaul]': 0.2, 'Fare elasticity of demand[LongHaul]': -0.83, 'Pricing strategy factor[LongHaul]': 0.45, 'Market share per haul segment[UltraLongHaul]': 0.2, 'Fare elasticity of demand[UltraLongHaul]': -0.83, 'Pricing strategy factor[UltraLongHaul]': 0.45})\n"
     ]
    }
   ],
   "source": [
    "haul_segments = [\"ShortHaul\", \"ShortMediumHaul\", \"MediumHaul\", \"LongHaul\", \"UltraLongHaul\"]\n",
    "\n",
    "n_experiments = 1\n",
    "\n",
    "baseline_scenarios = []\n",
    "\n",
    "elasticity_values = {\n",
    "    \"ShortHaul\": -1.28,\n",
    "    \"ShortMediumHaul\": -1.28,\n",
    "    \"MediumHaul\": -1.06,\n",
    "    \"LongHaul\": -0.83,\n",
    "    \"UltraLongHaul\": -0.83\n",
    "}\n",
    "\n",
    "for i in range(n_experiments):\n",
    "    scenario = Scenario()\n",
    "    \n",
    "    #add market share values for each segment\n",
    "    for segment in haul_segments:\n",
    "        scenario[f\"Market share per haul segment[{segment}]\"] = 0.2\n",
    "        scenario[f\"Fare elasticity of demand[{segment}]\"] = elasticity_values[segment]\n",
    "        scenario[f\"Pricing strategy factor[{segment}]\"] = 0.45\n",
    "    \n",
    "    baseline_scenarios.append(scenario)\n",
    "    \n",
    "for scenario in baseline_scenarios:\n",
    "    print(scenario)"
   ]
  },
  {
   "cell_type": "code",
   "execution_count": 37,
   "id": "dfa02ab6-16d4-4469-9dc4-2ab6aedc53a4",
   "metadata": {
    "tags": []
   },
   "outputs": [],
   "source": [
    "uncertain_parameters = []\n",
    "\n",
    "for segment in haul_segments:\n",
    "    uncertain_parameters.append(\n",
    "            RealParameter(f\"Market share per haul segment[{segment}]\", 0.1998, 0.2001)\n",
    "    )\n",
    "        \n",
    "    #add uncertain parameters for fare elasticity and pricing strategy factor\n",
    "    uncertain_parameters.append(\n",
    "        RealParameter(f\"Fare elasticity of demand[{segment}]\", -1.28, -0.83)\n",
    "    )\n",
    "    uncertain_parameters.append(\n",
    "        RealParameter(f\"Pricing strategy factor[{segment}]\", 0.4449, 0.4501)\n",
    "    )\n",
    "    \n",
    "vensim_model.uncertainties = uncertain_parameters"
   ]
  },
  {
   "cell_type": "code",
   "execution_count": 38,
   "id": "b0cd04a7-fdde-4e78-b4cd-87672e4e4d77",
   "metadata": {
    "tags": []
   },
   "outputs": [],
   "source": [
    "vensim_model.outcomes = [TimeSeriesOutcome(\"Total accumulated emissions\", variable_name=\"Total accumulated emissions\"),\n",
    "                        TimeSeriesOutcome(\"Total annual passenger demand\", variable_name=\"Total annual passenger demand\")]"
   ]
  },
  {
   "cell_type": "code",
   "execution_count": 39,
   "id": "733faeaf-fe47-4ada-93fe-39ebb3868948",
   "metadata": {
    "tags": []
   },
   "outputs": [
    {
     "name": "stderr",
     "output_type": "stream",
     "text": [
      "[MainProcess/INFO] performing 1 scenarios * 1 policies * 1 model(s) = 1 experiments\n",
      "  0%|                                                    | 0/1 [00:00<?, ?it/s][MainProcess/INFO] performing experiments sequentially\n",
      "100%|████████████████████████████████████████████| 1/1 [00:00<00:00, 14.87it/s]\n",
      "[MainProcess/INFO] experiments finished\n"
     ]
    }
   ],
   "source": [
    "from ema_workbench import SequentialEvaluator\n",
    "\n",
    "baseline, outcome_baseline = perform_experiments(vensim_model, scenarios=n_experiments)"
   ]
  },
  {
   "cell_type": "code",
   "execution_count": 40,
   "id": "76d9a7c4-8c58-4bcb-a425-3bf577cfba01",
   "metadata": {
    "tags": []
   },
   "outputs": [
    {
     "name": "stderr",
     "output_type": "stream",
     "text": [
      "C:\\Users\\saski\\anaconda3\\Lib\\site-packages\\ema_workbench\\em_framework\\outcomes.py:541: UserWarning: still to be tested!!\n",
      "  warnings.warn(\"still to be tested!!\")\n",
      "[MainProcess/INFO] results saved successfully to C:\\Users\\saski\\OneDrive\\Documenten\\EPA\\AFSTUDEREN\\results\\results_baseline1.tar.gz\n"
     ]
    }
   ],
   "source": [
    "save_results((baseline, outcome_baseline), \"./results/results_baseline1.tar.gz\")"
   ]
  }
 ],
 "metadata": {
  "kernelspec": {
   "display_name": "Python 3 (ipykernel)",
   "language": "python",
   "name": "python3"
  },
  "language_info": {
   "codemirror_mode": {
    "name": "ipython",
    "version": 3
   },
   "file_extension": ".py",
   "mimetype": "text/x-python",
   "name": "python",
   "nbconvert_exporter": "python",
   "pygments_lexer": "ipython3",
   "version": "3.11.5"
  }
 },
 "nbformat": 4,
 "nbformat_minor": 5
}
